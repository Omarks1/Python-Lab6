{
 "cells": [
  {
   "cell_type": "markdown",
   "id": "2e120660",
   "metadata": {},
   "source": [
    "# Lab-6"
   ]
  },
  {
   "cell_type": "code",
   "execution_count": null,
   "id": "15127612",
   "metadata": {},
   "outputs": [],
   "source": [
    "dic_n_n= {\n",
    "    '1111111111':'Amal',\n",
    "    '2222222222':'Mohammed',\n",
    "    '3333333333':'Khadijah',\n",
    "    '4444444444':'Abdullah',\n",
    "    '5555555555':'Rawan',\n",
    "    '6666666666':'Faisal',\n",
    "    '7777777777':'Layla'\n",
    "    }\n",
    "\n",
    "num= (input('Please inter the phone number: '))\n",
    "\n",
    "if len(num) < 10 or  len(num)> 10:\n",
    "    print(num)\n",
    "elif not num.isdigit:\n",
    "    print('This is invalid number')\n",
    "elif num in dic_n_n:\n",
    "    print('This is the name of the onwer: ',dic_n_n[num])\n",
    "else:"
   ]
  }
 ],
 "metadata": {
  "kernelspec": {
   "display_name": "Python 3 (ipykernel)",
   "language": "python",
   "name": "python3"
  },
  "language_info": {
   "codemirror_mode": {
    "name": "ipython",
    "version": 3
   },
   "file_extension": ".py",
   "mimetype": "text/x-python",
   "name": "python",
   "nbconvert_exporter": "python",
   "pygments_lexer": "ipython3",
   "version": "3.10.9"
  }
 },
 "nbformat": 4,
 "nbformat_minor": 5
}
